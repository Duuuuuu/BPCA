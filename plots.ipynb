{
 "cells": [
  {
   "cell_type": "code",
   "execution_count": 30,
   "metadata": {},
   "outputs": [],
   "source": [
    "import numpy as np\n",
    "import pandas as pd\n",
    "import scipy as sp\n",
    "import matplotlib.pyplot as plt\n",
    "import seaborn\n",
    "\n",
    "from sklearn.decomposition import PCA\n",
    "from bpca import BPCA\n",
    "from ppca import PPCA\n",
    "\n",
    "from vis_utils import hinton"
   ]
  },
  {
   "cell_type": "code",
   "execution_count": 31,
   "metadata": {},
   "outputs": [
    {
     "name": "stdout",
     "output_type": "stream",
     "text": [
      "(100, 10)\n"
     ]
    }
   ],
   "source": [
    "cov = np.diag(np.array([5,4,3,2,1,1,1,1,1,1])**2)\n",
    "data = np.random.multivariate_normal(np.zeros(10), cov, size=100)\n",
    "print(data.shape)"
   ]
  },
  {
   "cell_type": "code",
   "execution_count": 32,
   "metadata": {
    "scrolled": false
   },
   "outputs": [
    {
     "name": "stdout",
     "output_type": "stream",
     "text": [
      "Iter 0, ELBO: -14404.665860, alpha: [14.32009246  3.95304323  3.38292597 13.26247957 12.31118581  5.88624252\n",
      "  7.91968196  8.64034759 24.43726973]\n"
     ]
    },
    {
     "data": {
      "text/plain": [
       "PCA(copy=True, iterated_power='auto', n_components=10, random_state=None,\n",
       "  svd_solver='auto', tol=0.0, whiten=False)"
      ]
     },
     "execution_count": 32,
     "metadata": {},
     "output_type": "execute_result"
    }
   ],
   "source": [
    "bpca = BPCA()\n",
    "bpca.fit(data, verbose=True, trace_elbo=True, trace_variation=True, print_every=9999999)\n",
    "ppca = PPCA(n_dimension=10)\n",
    "ppca.fit(data, method='EM')\n",
    "pca = PCA(n_components=10)\n",
    "pca.fit(data)"
   ]
  },
  {
   "cell_type": "markdown",
   "metadata": {},
   "source": [
    "# weight matrices"
   ]
  },
  {
   "cell_type": "code",
   "execution_count": 47,
   "metadata": {},
   "outputs": [],
   "source": [
    "def hinton_all(bpca, ppca, pca):\n",
    "    hinton(bpca.get_weight_matrix().T)\n",
    "    hinton(ppca._return_W().T)\n",
    "    hinton(pca.components_)"
   ]
  },
  {
   "cell_type": "code",
   "execution_count": 48,
   "metadata": {},
   "outputs": [
    {
     "data": {
      "image/png": "[encoded data removed]",
      "text/plain": [
       "<Figure size 432x288 with 1 Axes>"
      ]
     },
     "metadata": {},
     "output_type": "display_data"
    },
    {
     "data": {
      "image/png": "[encoded data removed]",
      "text/plain": [
       "<Figure size 432x288 with 1 Axes>"
      ]
     },
     "metadata": {},
     "output_type": "display_data"
    },
    {
     "data": {
      "image/png": "[encoded data removed]",
      "text/plain": [
       "<Figure size 432x288 with 1 Axes>"
      ]
     },
     "metadata": {},
     "output_type": "display_data"
    }
   ],
   "source": [
    "hinton_all(bpca, ppca, pca)"
   ]
  },
  {
   "cell_type": "markdown",
   "metadata": {},
   "source": [
    "# BPCA weight distribution vs. PCA variance ratio"
   ]
  },
  {
   "cell_type": "code",
   "execution_count": null,
   "metadata": {},
   "outputs": [],
   "source": [
    "def plot_BPCA_weight_PCA_var(bpca, pca):\n",
    "    plt.plot(sorted(np.sum(np.abs((bpca.get_weights())), axis=1), reverse=True), label='BPCA weight distribution')\n",
    "    plt.plot(pca.explained_variance_ratio_*(np.sum(np.abs(bpca.get_weights()))/np.sum(pca.explained_variance_ratio_)), label='PCA variance ratio (rescaled)')\n",
    "    plt.legend()\n",
    "    plt.xlabel('number of dimentions (0 indexed)')\n",
    "    plt.ylabel('arb range')\n",
    "    plt.title('BPCA weight distribution vs. PCA explained variance ratio')\n",
    "    plt.show()"
   ]
  },
  {
   "cell_type": "code",
   "execution_count": null,
   "metadata": {},
   "outputs": [],
   "source": [
    "plot_BPCA_weight_PCA_var(bpca, pca)"
   ]
  },
  {
   "cell_type": "markdown",
   "metadata": {},
   "source": [
    "# number of captured dimension"
   ]
  },
  {
   "cell_type": "code",
   "execution_count": null,
   "metadata": {},
   "outputs": [],
   "source": [
    "def captured_dimensions(bpca):\n",
    "    min_percent = 0.02\n",
    "    total_weight = np.sum(np.abs(bpca.get_weights()))\n",
    "    return np.sum([1 for col in np.sum(np.abs((bpca.get_weights())), axis=1).tolist() if col > min_percent*total_weight]) "
   ]
  },
  {
   "cell_type": "code",
   "execution_count": null,
   "metadata": {},
   "outputs": [],
   "source": [
    "captured_dimensions(bpca)"
   ]
  },
  {
   "cell_type": "code",
   "execution_count": null,
   "metadata": {},
   "outputs": [],
   "source": [
    "#conditions -- \n",
    "# different distributions (not just normal)\n",
    "# different number of dimensions                                    [x]\n",
    "# different number of datapoints\n",
    "\n",
    "#plots --\n",
    "#weight distribution against explained variance ratio               [x]\n",
    "#hinton plots                                                       [x]\n",
    "#number of actual dimentions vs number of captured dimensions\n",
    "\n",
    "#MNIST dataset"
   ]
  },
  {
   "cell_type": "markdown",
   "metadata": {},
   "source": [
    "# Different number of dimensions"
   ]
  },
  {
   "cell_type": "code",
   "execution_count": null,
   "metadata": {
    "scrolled": false
   },
   "outputs": [],
   "source": [
    "n_dim_plot = []\n",
    "n_dim_plot_captured = []\n",
    "for n_dim in np.arange(1, 11):\n",
    "    max_dim = 10\n",
    "    num_points = 100\n",
    "    print('============= NUMBER OF DIMENSIONS: {} ============='.format(n_dim))\n",
    "    seed_arr = [i+2 for i in range(n_dim)][::-1]\n",
    "    #print(seed_arr)\n",
    "    while len(seed_arr) < max_dim:\n",
    "        seed_arr.extend([1])\n",
    "    #print(seed_arr)\n",
    "    \n",
    "    cov = np.diag(np.array(seed_arr)**2)\n",
    "    data = np.random.multivariate_normal(np.zeros(max_dim), cov, size=num_points)\n",
    "    \n",
    "    bpca = BPCA(data.T)\n",
    "    bpca.fit(print_every=999999999)\n",
    "    pca = PCA(n_components=max_dim)\n",
    "    pca.fit(data)\n",
    "    \n",
    "    hinton_BPCA_PCA(bpca, pca)\n",
    "    plot_BPCA_weight_PCA_var(bpca, pca)\n",
    "    \n",
    "    n_dim_plot.append(n_dim)\n",
    "    n_dim_plot_captured.append(captured_dimensions(bpca))\n",
    "    \n",
    "    print('============= NUMBER OF DIMENSIONS: {} ============='.format(n_dim))\n",
    "plt.plot(n_dim_plot, n_dim_plot_captured, 'o-')\n",
    "plt.xlabel('number of dimensions (true)')\n",
    "plt.ylabel('number of dimensions (captured by BPCA)')\n",
    "plt.title('bpca captured dimensions vs number of true dimensions')\n",
    "plt.show()"
   ]
  },
  {
   "cell_type": "markdown",
   "metadata": {},
   "source": [
    "* pca performs better when you need to use < ideal number of components? (it could inform range to scan for PCA?)\n",
    "* bpca fails when you don't have a sufficient number of data points to infer?"
   ]
  },
  {
   "cell_type": "markdown",
   "metadata": {},
   "source": [
    "# Different number of data points"
   ]
  },
  {
   "cell_type": "code",
   "execution_count": null,
   "metadata": {
    "scrolled": true
   },
   "outputs": [],
   "source": [
    "n_points_plot = []\n",
    "n_dim_plot_captured = []\n",
    "n_dim = 25\n",
    "max_dim = n_dim\n",
    "\n",
    "for num_points in np.arange(100, 1001, 50):\n",
    "    print('============= NUMBER OF POINTS: {} ============='.format(num_points))\n",
    "    seed_arr = [i+2 for i in range(n_dim)][::-1]\n",
    "    #print(seed_arr)\n",
    "    while len(seed_arr) < max_dim:\n",
    "        seed_arr.extend([1])\n",
    "    #print(seed_arr)\n",
    "    \n",
    "    cov = np.diag(np.array(seed_arr)**2)\n",
    "    data = np.random.multivariate_normal(np.zeros(max_dim), cov, size=num_points)\n",
    "    \n",
    "    bpca = BPCA(data.T)\n",
    "    bpca.fit(print_every=999999999)\n",
    "    pca = PCA(n_components=max_dim)\n",
    "    pca.fit(data)\n",
    "    \n",
    "    hinton_BPCA_PCA(bpca, pca)\n",
    "    plot_BPCA_weight_PCA_var(bpca, pca)\n",
    "    \n",
    "    n_points_plot.append(num_points)\n",
    "    n_dim_plot_captured.append(captured_dimensions(bpca))\n",
    "    \n",
    "    print('============= NUMBER OF POINTS: {} ============='.format(num_points))\n",
    "plt.plot(n_points_plot, n_dim_plot_captured, 'o-')\n",
    "plt.xlabel('number of dimensions (true)')\n",
    "plt.ylabel('number of dimensions (captured by BPCA)')\n",
    "plt.title('bpca captured dimensions vs number of true dimensions')\n",
    "plt.show()"
   ]
  },
  {
   "cell_type": "markdown",
   "metadata": {},
   "source": [
    "* some relationship between num points/distribution/etc. with required number of data points\n",
    "* number of dimensions captured (true number is 25) gets closer to truth as num data points increases (make a scan to determine so approximate relationship?)"
   ]
  },
  {
   "cell_type": "code",
   "execution_count": null,
   "metadata": {},
   "outputs": [],
   "source": [
    "a = np.array((1,2,3))\n",
    "b = np.array((2,3,4))\n",
    "print(a.shape)\n",
    "c = np.column_stack((a,b))\n",
    "print(c)\n",
    "d = np.column_stack((c, a))\n",
    "d.shape"
   ]
  },
  {
   "cell_type": "markdown",
   "metadata": {},
   "source": [
    "# different number of dimensions for poisson distribution"
   ]
  },
  {
   "cell_type": "code",
   "execution_count": null,
   "metadata": {
    "scrolled": false
   },
   "outputs": [],
   "source": [
    "n_dim_plot = []\n",
    "n_dim_plot_captured = []\n",
    "for n_dim in np.arange(1, 11):\n",
    "    max_dim = 10\n",
    "    num_points = 100\n",
    "    print('============= NUMBER OF DIMENSIONS: {} ============='.format(n_dim))\n",
    "    seed_arr = [i+2 for i in range(n_dim)][::-1]\n",
    "    #print(seed_arr)\n",
    "    while len(seed_arr) < max_dim:\n",
    "        seed_arr.extend([1])\n",
    "    #print(seed_arr)\n",
    "    \n",
    "    cov = np.diag(np.array(seed_arr)**2)\n",
    "    data = None\n",
    "    for seed in seed_arr:\n",
    "        data_col = np.random.poisson(lam=seed, size=num_points)\n",
    "        if data is None:\n",
    "            data = data_col\n",
    "        else:\n",
    "            data = np.column_stack((data, data_col))\n",
    "    \n",
    "    bpca = BPCA(data.T)\n",
    "    bpca.fit(print_every=999999999)\n",
    "    pca = PCA(n_components=max_dim)\n",
    "    pca.fit(data)\n",
    "    \n",
    "    hinton_BPCA_PCA(bpca, pca)\n",
    "    plot_BPCA_weight_PCA_var(bpca, pca)\n",
    "    \n",
    "    n_dim_plot.append(n_dim)\n",
    "    n_dim_plot_captured.append(captured_dimensions(bpca))\n",
    "    \n",
    "    print('============= NUMBER OF DIMENSIONS: {} ============='.format(n_dim))\n",
    "plt.plot(n_dim_plot, n_dim_plot_captured, 'o-')\n",
    "plt.xlabel('number of dimensions (true)')\n",
    "plt.ylabel('number of dimensions (captured by BPCA)')\n",
    "plt.title('bpca captured dimensions vs number of true dimensions')\n",
    "plt.show()"
   ]
  },
  {
   "cell_type": "markdown",
   "metadata": {},
   "source": [
    "# Different number of data points for poisson distribution"
   ]
  },
  {
   "cell_type": "code",
   "execution_count": null,
   "metadata": {
    "scrolled": true
   },
   "outputs": [],
   "source": [
    "n_points_plot = []\n",
    "n_dim_plot_captured = []\n",
    "n_dim = 25\n",
    "max_dim = n_dim\n",
    "\n",
    "for num_points in np.arange(100, 1001, 50):\n",
    "    print('============= NUMBER OF POINTS: {} ============='.format(num_points))\n",
    "    seed_arr = [i+2 for i in range(n_dim)][::-1]\n",
    "    #print(seed_arr)\n",
    "    while len(seed_arr) < max_dim:\n",
    "        seed_arr.extend([1])\n",
    "    #print(seed_arr)\n",
    "    \n",
    "    #cov = np.diag(np.array(seed_arr)**2)\n",
    "    #data = np.random.multivariate_normal(np.zeros(max_dim), cov, size=num_points)\n",
    "    cov = np.diag(np.array(seed_arr)**2)\n",
    "    data = None\n",
    "    for seed in seed_arr:\n",
    "        data_col = np.random.poisson(lam=seed, size=num_points)\n",
    "        if data is None:\n",
    "            data = data_col\n",
    "        else:\n",
    "            data = np.column_stack((data, data_col))\n",
    "    \n",
    "    bpca = BPCA(data.T)\n",
    "    bpca.fit(print_every=999999999)\n",
    "    pca = PCA(n_components=max_dim)\n",
    "    pca.fit(data)\n",
    "    \n",
    "    hinton_BPCA_PCA(bpca, pca)\n",
    "    plot_BPCA_weight_PCA_var(bpca, pca)\n",
    "    \n",
    "    n_points_plot.append(num_points)\n",
    "    n_dim_plot_captured.append(captured_dimensions(bpca))\n",
    "    \n",
    "    print('============= NUMBER OF POINTS: {} ============='.format(num_points))\n",
    "plt.plot(n_points_plot, n_dim_plot_captured, 'o-')\n",
    "plt.xlabel('number of dimensions (true)')\n",
    "plt.ylabel('number of dimensions (captured by BPCA)')\n",
    "plt.title('bpca captured dimensions vs number of true dimensions')\n",
    "plt.show()"
   ]
  },
  {
   "cell_type": "markdown",
   "metadata": {},
   "source": [
    "* worse with non normal distribs??"
   ]
  },
  {
   "cell_type": "code",
   "execution_count": null,
   "metadata": {},
   "outputs": [],
   "source": []
  },
  {
   "cell_type": "code",
   "execution_count": null,
   "metadata": {},
   "outputs": [],
   "source": []
  },
  {
   "cell_type": "code",
   "execution_count": null,
   "metadata": {},
   "outputs": [],
   "source": []
  },
  {
   "cell_type": "code",
   "execution_count": null,
   "metadata": {},
   "outputs": [],
   "source": []
  },
  {
   "cell_type": "code",
   "execution_count": null,
   "metadata": {},
   "outputs": [],
   "source": []
  },
  {
   "cell_type": "code",
   "execution_count": null,
   "metadata": {},
   "outputs": [],
   "source": []
  },
  {
   "cell_type": "code",
   "execution_count": null,
   "metadata": {},
   "outputs": [],
   "source": []
  },
  {
   "cell_type": "markdown",
   "metadata": {},
   "source": [
    "mixtures?\n",
    "titanic/wtv. dataset (we need to apply it to something i think?)"
   ]
  },
  {
   "cell_type": "code",
   "execution_count": null,
   "metadata": {},
   "outputs": [],
   "source": []
  }
 ],
 "metadata": {
  "kernelspec": {
   "display_name": "Python 3",
   "language": "python",
   "name": "python3"
  },
  "language_info": {
   "codemirror_mode": {
    "name": "ipython",
    "version": 3
   },
   "file_extension": ".py",
   "mimetype": "text/x-python",
   "name": "python",
   "nbconvert_exporter": "python",
   "pygments_lexer": "ipython3",
   "version": "3.6.5"
  }
 },
 "nbformat": 4,
 "nbformat_minor": 2
}
